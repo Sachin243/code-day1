{
 "cells": [
  {
   "cell_type": "code",
   "execution_count": 21,
   "metadata": {},
   "outputs": [
    {
     "name": "stdout",
     "output_type": "stream",
     "text": [
      "Hello world\n",
      "<class 'str'>\n",
      "12\n",
      "4\n",
      "2\n",
      "3\n",
      "4.0\n",
      "Help on built-in function print in module builtins:\n",
      "\n",
      "print(...)\n",
      "    print(value, ..., sep=' ', end='\\n', file=sys.stdout, flush=False)\n",
      "    \n",
      "    Prints the values to a stream, or to sys.stdout by default.\n",
      "    Optional keyword arguments:\n",
      "    file:  a file-like object (stream); defaults to the current sys.stdout.\n",
      "    sep:   string inserted between values, default a space.\n",
      "    end:   string appended after the last value, default a newline.\n",
      "    flush: whether to forcibly flush the stream.\n",
      "\n",
      "2.046\n"
     ]
    }
   ],
   "source": [
    "# built in functions...print(),type(),min(),max(),abs(),int(),float(),help(),round()\n",
    "print('Hello world')\n",
    "a = 'This is a variable.'\n",
    "print(type(a))\n",
    "print(min(12,34,23))\n",
    "print(max(3,4,2))\n",
    "print(abs(-2))\n",
    "print(int(3.5))\n",
    "print(float(4))\n",
    "help(print)\n",
    "print(round(2.045632, 3))"
   ]
  },
  {
   "cell_type": "code",
   "execution_count": 6,
   "metadata": {},
   "outputs": [
    {
     "name": "stdout",
     "output_type": "stream",
     "text": [
      "9\n",
      "Hello World\n",
      "12\n",
      "Hello Hello Hello Hello \n"
     ]
    }
   ],
   "source": [
    "'''operator overloading...'+' is used to add two integers as well as join two strings...\n",
    "'*' is used to multiply two numbers and repeat strings'''\n",
    "print(5+4)\n",
    "print('Hello ' + 'World')\n",
    "print(4*3)\n",
    "print('Hello ' * 4)\n"
   ]
  },
  {
   "cell_type": "code",
   "execution_count": 10,
   "metadata": {},
   "outputs": [
    {
     "name": "stdout",
     "output_type": "stream",
     "text": [
      "[3, 2, 1]\n",
      "[1, 2, 3]\n",
      "[3, 2, 1]\n",
      "[1, 2, 3]\n"
     ]
    }
   ],
   "source": [
    "# swap two variables a and b\n",
    "a = [1,2,3]\n",
    "b = [3,2,1]\n",
    "# first method...select a temporary variable\n",
    "temp = a\n",
    "a = b\n",
    "b = temp\n",
    "print(a)\n",
    "print(b)\n",
    "# second method\n",
    "a, b = b,a \n",
    "print(b)\n",
    "print(a)"
   ]
  },
  {
   "cell_type": "code",
   "execution_count": 13,
   "metadata": {},
   "outputs": [
    {
     "name": "stdout",
     "output_type": "stream",
     "text": [
      "1\n",
      "0\n"
     ]
    }
   ],
   "source": [
    "# arithmetic operations\n",
    "print((5 - 3) // 2)\n",
    "print(8 - (3 * 2) - (1 + 1))"
   ]
  },
  {
   "cell_type": "code",
   "execution_count": 15,
   "metadata": {},
   "outputs": [
    {
     "name": "stdout",
     "output_type": "stream",
     "text": [
      "1\n"
     ]
    }
   ],
   "source": [
    "# ## 4. Alice, Bob and Carol have agreed to pool their Halloween candy and split it evenly among themselves. \n",
    "##For the sake of their friendship, any candies left over will be smashed. For example, if they collectively bring\n",
    "##home 91 candies, they'll take 30 each and smash 1.\n",
    "##Write an arithmetic expression below to calculate how many candies they must smash for a given haul\n",
    "alice_candies = 121\n",
    "bob_candies = 77\n",
    "carol_candies = 109\n",
    "total_candies = alice_candies+ bob_candies + carol_candies\n",
    "candies_each = total_candies //3 \n",
    "to_smash = total_candies % 3\n",
    "print(to_smash)"
   ]
  },
  {
   "cell_type": "code",
   "execution_count": 19,
   "metadata": {},
   "outputs": [
    {
     "data": {
      "text/plain": [
       "2.01"
      ]
     },
     "execution_count": 19,
     "metadata": {},
     "output_type": "execute_result"
    }
   ],
   "source": [
    "round(2.014, 2)"
   ]
  },
  {
   "cell_type": "code",
   "execution_count": 28,
   "metadata": {},
   "outputs": [
    {
     "name": "stdout",
     "output_type": "stream",
     "text": [
      "gfg\n",
      "28-12-2020\n",
      "sachinsingh@gmail.com\n"
     ]
    }
   ],
   "source": [
    "# Seperator (sep) parameter in print function python-- defaut value --single space, can take any integer or string\n",
    "print('g','f','g', sep = \"\")\n",
    "print('28', '12', '2020', sep = '-')\n",
    "print('sachinsingh', 'gmail.com', sep = '@')"
   ]
  },
  {
   "cell_type": "code",
   "execution_count": 42,
   "metadata": {},
   "outputs": [
    {
     "name": "stdout",
     "output_type": "stream",
     "text": [
      "hello world\n"
     ]
    }
   ],
   "source": [
    "# end parameter - combines next print output to current \n",
    "print('hello',  end = ' ')\n",
    "print('world')"
   ]
  },
  {
   "cell_type": "code",
   "execution_count": 43,
   "metadata": {},
   "outputs": [
    {
     "name": "stdout",
     "output_type": "stream",
     "text": [
      "hello! world\n"
     ]
    }
   ],
   "source": [
    "# end and sep parameter together\n",
    "print('hello', sep = '', end = '! ')\n",
    "print('world')"
   ]
  },
  {
   "cell_type": "code",
   "execution_count": 45,
   "metadata": {},
   "outputs": [
    {
     "data": {
      "text/plain": [
       "9"
      ]
     },
     "execution_count": 45,
     "metadata": {},
     "output_type": "execute_result"
    }
   ],
   "source": [
    "## defining fuctions \n",
    "def sum(a,b):\n",
    "    return a+b\n",
    "sum(3,4)"
   ]
  },
  {
   "cell_type": "code",
   "execution_count": 54,
   "metadata": {},
   "outputs": [
    {
     "name": "stdout",
     "output_type": "stream",
     "text": [
      "5 1\n"
     ]
    }
   ],
   "source": [
    "## function for calculating absolute diff. of three numbers\n",
    "def least_difference(a,b,c):\n",
    "    '''function for calculating absolute diff.\n",
    "    of three numbers'''\n",
    "    diff1 = abs(a-b)\n",
    "    diff2 = abs(b-c)\n",
    "    diff3 = abs(a-c)\n",
    "    return min(diff1, diff2, diff3)\n",
    "print(least_difference(23,45,40), least_difference(4,3,6),)"
   ]
  },
  {
   "cell_type": "code",
   "execution_count": 55,
   "metadata": {},
   "outputs": [
    {
     "name": "stdout",
     "output_type": "stream",
     "text": [
      "Help on function least_difference in module __main__:\n",
      "\n",
      "least_difference(a, b, c)\n",
      "    function for calculating absolute diff.\n",
      "    of three numbers\n",
      "\n"
     ]
    }
   ],
   "source": [
    "help(least_difference)"
   ]
  },
  {
   "cell_type": "code",
   "execution_count": 58,
   "metadata": {},
   "outputs": [
    {
     "name": "stdout",
     "output_type": "stream",
     "text": [
      "Hi Sachin\n",
      "Hi World\n"
     ]
    }
   ],
   "source": [
    "## function with default argument value\n",
    "def greet(who = 'Sachin'):\n",
    "    print('Hi', who)\n",
    "greet()\n",
    "greet(who = 'World')"
   ]
  }
 ],
 "metadata": {
  "kernelspec": {
   "display_name": "Python 3",
   "language": "python",
   "name": "python3"
  },
  "language_info": {
   "codemirror_mode": {
    "name": "ipython",
    "version": 3
   },
   "file_extension": ".py",
   "mimetype": "text/x-python",
   "name": "python",
   "nbconvert_exporter": "python",
   "pygments_lexer": "ipython3",
   "version": "3.8.6"
  }
 },
 "nbformat": 4,
 "nbformat_minor": 4
}
